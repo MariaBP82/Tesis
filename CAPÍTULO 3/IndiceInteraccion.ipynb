{
 "cells": [
  {
   "cell_type": "code",
   "execution_count": null,
   "id": "c3d1798b-e0e8-4cc3-a235-b35f1d6b8039",
   "metadata": {},
   "outputs": [],
   "source": [
    "import numpy as np\n",
    "import pandas as pd\n",
    "import networkx as nx\n",
    "import time "
   ]
  },
  {
   "cell_type": "code",
   "execution_count": null,
   "id": "f7936072-6d5b-422d-83cb-61ddba58136d",
   "metadata": {},
   "outputs": [],
   "source": [
    "# Cargar la red\n",
    "red = pd.read_csv(\"ruta/red.csv\", sep=';')\n",
    "\n",
    "# Crear grafo dirigido y agregar arcos con capacidad\n",
    "G = nx.DiGraph()\n",
    "for _, row in red.iterrows():\n",
    "    # Ajusta -1 si tus nodos están indexados desde 1\n",
    "    G.add_edge(row['nod_sal'] - 1, row['nod_ent'] - 1, capacity=row['cap'])\n",
    "\n",
    "# Número de nodos\n",
    "n_nodes = max(G.nodes) + 1\n",
    "\n",
    "# Inicializar matriz de flujo máximo\n",
    "I = np.zeros((n_nodes, n_nodes))\n",
    "\n",
    "inicio = time.time()\n",
    "\n",
    "# Calcular flujo máximo para cada par de nodos (puedes limitar pares para ahorrar tiempo)\n",
    "for i in range(n_nodes):\n",
    "    for j in range(n_nodes):\n",
    "        if i != j and nx.has_path(G, i, j):\n",
    "            flow_value, _ = nx.maximum_flow(G, i, j, capacity='capacity')\n",
    "            I[i, j] = flow_value\n",
    "\n",
    "fin = time.time()\n",
    "\n",
    "\n",
    "print(I)\n",
    "print(\"Tiempo de cálculo:\", fin - inicio, \"segundos\")\n",
    "\n",
    "# Guardar matriz a CSV\n",
    "I_df = pd.DataFrame(I)\n",
    "I_df.to_csv(\"ruta/MatrizId.csv\", index=False, header=False, sep=';', float_format='%.0f')"
   ]
  }
 ],
 "metadata": {
  "kernelspec": {
   "display_name": "Python 3 (ipykernel)",
   "language": "python",
   "name": "python3"
  },
  "language_info": {
   "codemirror_mode": {
    "name": "ipython",
    "version": 3
   },
   "file_extension": ".py",
   "mimetype": "text/x-python",
   "name": "python",
   "nbconvert_exporter": "python",
   "pygments_lexer": "ipython3",
   "version": "3.11.7"
  }
 },
 "nbformat": 4,
 "nbformat_minor": 5
}
