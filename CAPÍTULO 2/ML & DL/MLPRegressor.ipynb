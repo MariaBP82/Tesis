{
 "cells": [
  {
   "cell_type": "code",
   "execution_count": 1,
   "id": "b004e8c4-c71e-40a1-9e06-daeae5dbe094",
   "metadata": {},
   "outputs": [
    {
     "name": "stdout",
     "output_type": "stream",
     "text": [
      "Mejores hiperparámetros: {'activation': 'tanh', 'alpha': 0.0001, 'hidden_layer_sizes': (5, 5), 'max_iter': 500, 'solver': 'adam'}\n",
      "Error cuadrático medio (MSE) en test: 0.1562\n",
      "\n",
      "Resumen de resultados (ordenados por MSE):\n",
      "   param_hidden_layer_sizes param_activation param_alpha  mean_MSE   std_MSE\n",
      "11                   (5, 5)             tanh      0.0001  0.158467  0.011874\n",
      "14                   (5, 5)             tanh       0.001  0.158468  0.011875\n",
      "17                   (5, 5)             tanh        0.01  0.158473  0.011881\n",
      "15                     (5,)             tanh        0.01  0.165074  0.014530\n",
      "12                     (5,)             tanh       0.001  0.165079  0.014536\n",
      "9                      (5,)             tanh      0.0001  0.165080  0.014537\n",
      "6                      (5,)             relu        0.01  0.165847  0.018701\n",
      "3                      (5,)             relu       0.001  0.165871  0.018740\n",
      "0                      (5,)             relu      0.0001  0.165874  0.018744\n",
      "4                     (10,)             relu       0.001  0.167659  0.022287\n",
      "1                     (10,)             relu      0.0001  0.167659  0.022267\n",
      "7                     (10,)             relu        0.01  0.167673  0.022307\n",
      "16                    (10,)             tanh        0.01  0.177847  0.024890\n",
      "13                    (10,)             tanh       0.001  0.177853  0.024896\n",
      "10                    (10,)             tanh      0.0001  0.177853  0.024897\n",
      "2                    (5, 5)             relu      0.0001  0.187341  0.037645\n",
      "5                    (5, 5)             relu       0.001  0.187625  0.037364\n",
      "8                    (5, 5)             relu        0.01  0.187930  0.037173\n"
     ]
    }
   ],
   "source": [
    "import numpy as np\n",
    "import pandas as pd\n",
    "from sklearn.model_selection import train_test_split, GridSearchCV\n",
    "from sklearn.neural_network import MLPRegressor\n",
    "from sklearn.metrics import mean_squared_error\n",
    "\n",
    "# Simular datos\n",
    "np.random.seed(42)\n",
    "n = 500\n",
    "X1 = np.random.normal(0, 1, n)\n",
    "X2 = np.random.normal(2, 1.5, n)\n",
    "logits = -1 + 0.8 * X1 + 1.2 * X2\n",
    "prob = 1 / (1 + np.exp(-logits))\n",
    "y = np.random.binomial(1, prob)\n",
    "\n",
    "# Crear DataFrame\n",
    "df = pd.DataFrame({'X1': X1, 'X2': X2, 'y': y})\n",
    "X = df[['X1', 'X2']]\n",
    "y = df['y']\n",
    "\n",
    "# División de datos\n",
    "X_train, X_test, y_train, y_test = train_test_split(X, y, test_size=0.2, random_state=42)\n",
    "\n",
    "# Definir grid de hiperparámetros para MLPRegressor\n",
    "param_grid = {\n",
    "    'hidden_layer_sizes': [(5,), (10,), (5, 5)],\n",
    "    'activation': ['relu', 'tanh'],\n",
    "    'alpha': [0.0001, 0.001, 0.01],  # Regularización L2\n",
    "    'solver': ['adam'],  # SGD también es posible\n",
    "    'max_iter': [500]\n",
    "}\n",
    "\n",
    "# Inicializar modelo y GridSearchCV\n",
    "mlp = MLPRegressor(random_state=42)\n",
    "grid_search = GridSearchCV(mlp, param_grid, cv=5, scoring='neg_mean_squared_error', return_train_score=True)\n",
    "grid_search.fit(X_train, y_train)\n",
    "\n",
    "# Mejor modelo y predicciones\n",
    "best_model = grid_search.best_estimator_\n",
    "y_pred = best_model.predict(X_test)\n",
    "\n",
    "# Evaluación con MSE\n",
    "mse = mean_squared_error(y_test, y_pred)\n",
    "\n",
    "# Imprimir resultados\n",
    "print(\"Mejores hiperparámetros:\", grid_search.best_params_)\n",
    "print(f\"Error cuadrático medio (MSE) en test: {mse:.4f}\\n\")\n",
    "\n",
    "# Mostrar todos los resultados del grid\n",
    "results = pd.DataFrame(grid_search.cv_results_)\n",
    "results = results[['param_hidden_layer_sizes', 'param_activation', 'param_alpha', 'mean_test_score', 'std_test_score']]\n",
    "results['mean_test_score'] = -results['mean_test_score']  # Convertimos a MSE positivo\n",
    "results = results.rename(columns={'mean_test_score': 'mean_MSE', 'std_test_score': 'std_MSE'})\n",
    "\n",
    "print(\"Resumen de resultados (ordenados por MSE):\")\n",
    "print(results.sort_values(by='mean_MSE'))\n"
   ]
  },
  {
   "cell_type": "code",
   "execution_count": null,
   "id": "80f9e08c-b9a0-41e8-890b-0b2f0f2092d9",
   "metadata": {},
   "outputs": [],
   "source": []
  }
 ],
 "metadata": {
  "kernelspec": {
   "display_name": "Python 3 (ipykernel)",
   "language": "python",
   "name": "python3"
  },
  "language_info": {
   "codemirror_mode": {
    "name": "ipython",
    "version": 3
   },
   "file_extension": ".py",
   "mimetype": "text/x-python",
   "name": "python",
   "nbconvert_exporter": "python",
   "pygments_lexer": "ipython3",
   "version": "3.11.7"
  }
 },
 "nbformat": 4,
 "nbformat_minor": 5
}
